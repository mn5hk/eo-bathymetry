{
 "cells": [
  {
   "cell_type": "markdown",
   "metadata": {},
   "source": [
    "In this script, we download the ICESAT2 data using the OpenAltimetry API for the region of interest (Brahmaputra river) and save it in parquet file format as '../data/out/icesat-2-BGD.parquet':"
   ]
  },
  {
   "cell_type": "code",
   "execution_count": 1,
   "metadata": {},
   "outputs": [],
   "source": [
    "# %matplotlib widget\n",
    "%matplotlib inline\n",
    "# %matplotlib qt \n",
    "\n",
    "import json\n",
    "\n",
    "import requests\n",
    "import matplotlib.pyplot as plt\n",
    "import pandas as pd\n",
    "import numpy as np\n",
    "import folium\n",
    "import geopandas as gpd\n",
    "from shapely.geometry import box, Polygon\n",
    "from pyproj import CRS\n",
    "from tqdm.notebook import tqdm\n",
    "from tqdm import trange"
   ]
  },
  {
   "cell_type": "code",
   "execution_count": 2,
   "metadata": {},
   "outputs": [],
   "source": [
    "# remove folium warning\n",
    "import warnings; warnings.filterwarnings('ignore', 'GeoSeries.notna', UserWarning)"
   ]
  },
  {
   "cell_type": "code",
   "execution_count": 3,
   "metadata": {},
   "outputs": [],
   "source": [
    "dates = requests.get('https://openaltimetry.org/data/icesat2/getTrackDate').json()\n",
    "tracks = gpd.read_file(r\"../data/icesat-2/icesat2_tracks.shp\")\n",
    "\n",
    "# NL\n",
    "# extents = [5.35,53.4,6.2,53.5] \n",
    "#extents = [5.8062744140625, 53.36202615413913, 6.1791229248046875, 53.5092846887053]\n",
    "# zoom = 10\n",
    "\n",
    "# DK\n",
    "# extents = [8.0557, 54.8955, 8.7615, 55.5938]\n",
    "# zoom = 8\n",
    "\n",
    "# FR\n",
    "#extents = [-1.28608, 44.60415, -0.9908, 44.7969]\n",
    "#zoom = 10\n",
    "\n",
    "# Bangladesh\n",
    "#extents = [87.82464370120167, 26.682156997156508, 92.5, 21.581176369642726]\n",
    "#extents = [89.42267656397932, 24.5, 89.96649980616682, 23.7] #needs to be readjusted\n",
    "#extents = [89.42267656397932, 23.7, 89.96649980616682, 24.5]\n",
    "extents = [89.57958670206244, 23.721136875400937, 89.99453684543461, 24.618409448937893] #Extent same as users/gena/AquaMonitor2020/bathymetry-jamuna/bathymetry3-jamuna-2018-2019\n",
    "zoom = 9\n",
    "\n",
    "polygon_geom = Polygon(zip([extents[0],extents[2],extents[2],extents[0]], [extents[1],extents[1],extents[3],extents[3]]))\n",
    "polygon = gpd.GeoDataFrame(index=[0], crs=CRS('EPSG:4326'), geometry=[polygon_geom])       \n",
    "\n",
    "# Clip data\n",
    "tracks_clip = gpd.clip(tracks, polygon)\n",
    "track_ids = tracks_clip.TrackId.values"
   ]
  },
  {
   "cell_type": "code",
   "execution_count": 4,
   "metadata": {},
   "outputs": [],
   "source": [
    "center = [polygon_geom.centroid.xy[1][0], polygon_geom.centroid.xy[0][0]]"
   ]
  },
  {
   "cell_type": "code",
   "execution_count": 5,
   "metadata": {},
   "outputs": [
    {
     "data": {
      "text/html": [
       "<div style=\"width:100%;\"><div style=\"position:relative;width:100%;height:0;padding-bottom:60%;\"><span style=\"color:#565656\">Make this Notebook Trusted to load map: File -> Trust Notebook</span><iframe src=\"about:blank\" style=\"position:absolute;width:100%;height:100%;left:0;top:0;border:none !important;\" data-html=PCFET0NUWVBFIGh0bWw+CjxoZWFkPiAgICAKICAgIDxtZXRhIGh0dHAtZXF1aXY9ImNvbnRlbnQtdHlwZSIgY29udGVudD0idGV4dC9odG1sOyBjaGFyc2V0PVVURi04IiAvPgogICAgCiAgICAgICAgPHNjcmlwdD4KICAgICAgICAgICAgTF9OT19UT1VDSCA9IGZhbHNlOwogICAgICAgICAgICBMX0RJU0FCTEVfM0QgPSBmYWxzZTsKICAgICAgICA8L3NjcmlwdD4KICAgIAogICAgPHNjcmlwdCBzcmM9Imh0dHBzOi8vY2RuLmpzZGVsaXZyLm5ldC9ucG0vbGVhZmxldEAxLjYuMC9kaXN0L2xlYWZsZXQuanMiPjwvc2NyaXB0PgogICAgPHNjcmlwdCBzcmM9Imh0dHBzOi8vY29kZS5qcXVlcnkuY29tL2pxdWVyeS0xLjEyLjQubWluLmpzIj48L3NjcmlwdD4KICAgIDxzY3JpcHQgc3JjPSJodHRwczovL21heGNkbi5ib290c3RyYXBjZG4uY29tL2Jvb3RzdHJhcC8zLjIuMC9qcy9ib290c3RyYXAubWluLmpzIj48L3NjcmlwdD4KICAgIDxzY3JpcHQgc3JjPSJodHRwczovL2NkbmpzLmNsb3VkZmxhcmUuY29tL2FqYXgvbGlicy9MZWFmbGV0LmF3ZXNvbWUtbWFya2Vycy8yLjAuMi9sZWFmbGV0LmF3ZXNvbWUtbWFya2Vycy5qcyI+PC9zY3JpcHQ+CiAgICA8bGluayByZWw9InN0eWxlc2hlZXQiIGhyZWY9Imh0dHBzOi8vY2RuLmpzZGVsaXZyLm5ldC9ucG0vbGVhZmxldEAxLjYuMC9kaXN0L2xlYWZsZXQuY3NzIi8+CiAgICA8bGluayByZWw9InN0eWxlc2hlZXQiIGhyZWY9Imh0dHBzOi8vbWF4Y2RuLmJvb3RzdHJhcGNkbi5jb20vYm9vdHN0cmFwLzMuMi4wL2Nzcy9ib290c3RyYXAubWluLmNzcyIvPgogICAgPGxpbmsgcmVsPSJzdHlsZXNoZWV0IiBocmVmPSJodHRwczovL21heGNkbi5ib290c3RyYXBjZG4uY29tL2Jvb3RzdHJhcC8zLjIuMC9jc3MvYm9vdHN0cmFwLXRoZW1lLm1pbi5jc3MiLz4KICAgIDxsaW5rIHJlbD0ic3R5bGVzaGVldCIgaHJlZj0iaHR0cHM6Ly9tYXhjZG4uYm9vdHN0cmFwY2RuLmNvbS9mb250LWF3ZXNvbWUvNC42LjMvY3NzL2ZvbnQtYXdlc29tZS5taW4uY3NzIi8+CiAgICA8bGluayByZWw9InN0eWxlc2hlZXQiIGhyZWY9Imh0dHBzOi8vY2RuanMuY2xvdWRmbGFyZS5jb20vYWpheC9saWJzL0xlYWZsZXQuYXdlc29tZS1tYXJrZXJzLzIuMC4yL2xlYWZsZXQuYXdlc29tZS1tYXJrZXJzLmNzcyIvPgogICAgPGxpbmsgcmVsPSJzdHlsZXNoZWV0IiBocmVmPSJodHRwczovL3Jhd2Nkbi5naXRoYWNrLmNvbS9weXRob24tdmlzdWFsaXphdGlvbi9mb2xpdW0vbWFzdGVyL2ZvbGl1bS90ZW1wbGF0ZXMvbGVhZmxldC5hd2Vzb21lLnJvdGF0ZS5jc3MiLz4KICAgIDxzdHlsZT5odG1sLCBib2R5IHt3aWR0aDogMTAwJTtoZWlnaHQ6IDEwMCU7bWFyZ2luOiAwO3BhZGRpbmc6IDA7fTwvc3R5bGU+CiAgICA8c3R5bGU+I21hcCB7cG9zaXRpb246YWJzb2x1dGU7dG9wOjA7Ym90dG9tOjA7cmlnaHQ6MDtsZWZ0OjA7fTwvc3R5bGU+CiAgICAKICAgICAgICAgICAgPG1ldGEgbmFtZT0idmlld3BvcnQiIGNvbnRlbnQ9IndpZHRoPWRldmljZS13aWR0aCwKICAgICAgICAgICAgICAgIGluaXRpYWwtc2NhbGU9MS4wLCBtYXhpbXVtLXNjYWxlPTEuMCwgdXNlci1zY2FsYWJsZT1ubyIgLz4KICAgICAgICAgICAgPHN0eWxlPgogICAgICAgICAgICAgICAgI21hcF9kZDU1YWNkZDQwNzc0OWQ0YTRkZDc1MGQxZjRlMzE1MSB7CiAgICAgICAgICAgICAgICAgICAgcG9zaXRpb246IHJlbGF0aXZlOwogICAgICAgICAgICAgICAgICAgIHdpZHRoOiAxMDAuMCU7CiAgICAgICAgICAgICAgICAgICAgaGVpZ2h0OiAxMDAuMCU7CiAgICAgICAgICAgICAgICAgICAgbGVmdDogMC4wJTsKICAgICAgICAgICAgICAgICAgICB0b3A6IDAuMCU7CiAgICAgICAgICAgICAgICB9CiAgICAgICAgICAgIDwvc3R5bGU+CiAgICAgICAgCjwvaGVhZD4KPGJvZHk+ICAgIAogICAgCiAgICAgICAgICAgIDxkaXYgY2xhc3M9ImZvbGl1bS1tYXAiIGlkPSJtYXBfZGQ1NWFjZGQ0MDc3NDlkNGE0ZGQ3NTBkMWY0ZTMxNTEiID48L2Rpdj4KICAgICAgICAKPC9ib2R5Pgo8c2NyaXB0PiAgICAKICAgIAogICAgICAgICAgICB2YXIgbWFwX2RkNTVhY2RkNDA3NzQ5ZDRhNGRkNzUwZDFmNGUzMTUxID0gTC5tYXAoCiAgICAgICAgICAgICAgICAibWFwX2RkNTVhY2RkNDA3NzQ5ZDRhNGRkNzUwZDFmNGUzMTUxIiwKICAgICAgICAgICAgICAgIHsKICAgICAgICAgICAgICAgICAgICBjZW50ZXI6IFsyNC4xNjk3NzMxNjIxNjk0MTcsIDg5Ljc4NzA2MTc3Mzc0ODUyXSwKICAgICAgICAgICAgICAgICAgICBjcnM6IEwuQ1JTLkVQU0czODU3LAogICAgICAgICAgICAgICAgICAgIHpvb206IDksCiAgICAgICAgICAgICAgICAgICAgem9vbUNvbnRyb2w6IHRydWUsCiAgICAgICAgICAgICAgICAgICAgcHJlZmVyQ2FudmFzOiBmYWxzZSwKICAgICAgICAgICAgICAgIH0KICAgICAgICAgICAgKTsKCiAgICAgICAgICAgIAoKICAgICAgICAKICAgIAogICAgICAgICAgICB2YXIgdGlsZV9sYXllcl8yMTAwZGM5ZTljNjI0YzgxYjg2NDYzMTg5ZGMyN2EwYiA9IEwudGlsZUxheWVyKAogICAgICAgICAgICAgICAgImh0dHBzOi8ve3N9LnRpbGUub3BlbnN0cmVldG1hcC5vcmcve3p9L3t4fS97eX0ucG5nIiwKICAgICAgICAgICAgICAgIHsiYXR0cmlidXRpb24iOiAiRGF0YSBieSBcdTAwMjZjb3B5OyBcdTAwM2NhIGhyZWY9XCJodHRwOi8vb3BlbnN0cmVldG1hcC5vcmdcIlx1MDAzZU9wZW5TdHJlZXRNYXBcdTAwM2MvYVx1MDAzZSwgdW5kZXIgXHUwMDNjYSBocmVmPVwiaHR0cDovL3d3dy5vcGVuc3RyZWV0bWFwLm9yZy9jb3B5cmlnaHRcIlx1MDAzZU9EYkxcdTAwM2MvYVx1MDAzZS4iLCAiZGV0ZWN0UmV0aW5hIjogZmFsc2UsICJtYXhOYXRpdmVab29tIjogMTgsICJtYXhab29tIjogMTgsICJtaW5ab29tIjogMCwgIm5vV3JhcCI6IGZhbHNlLCAib3BhY2l0eSI6IDEsICJzdWJkb21haW5zIjogImFiYyIsICJ0bXMiOiBmYWxzZX0KICAgICAgICAgICAgKS5hZGRUbyhtYXBfZGQ1NWFjZGQ0MDc3NDlkNGE0ZGQ3NTBkMWY0ZTMxNTEpOwogICAgICAgIAogICAgCiAgICAgICAgZnVuY3Rpb24gZ2VvX2pzb25fZjNmM2NmOTk3NGNlNGJlMjhmMTBiN2YxZDk0YTk3NzFfb25FYWNoRmVhdHVyZShmZWF0dXJlLCBsYXllcikgewogICAgICAgICAgICBsYXllci5vbih7CiAgICAgICAgICAgICAgICBjbGljazogZnVuY3Rpb24oZSkgewogICAgICAgICAgICAgICAgICAgIG1hcF9kZDU1YWNkZDQwNzc0OWQ0YTRkZDc1MGQxZjRlMzE1MS5maXRCb3VuZHMoZS50YXJnZXQuZ2V0Qm91bmRzKCkpOwogICAgICAgICAgICAgICAgfQogICAgICAgICAgICB9KTsKICAgICAgICB9OwogICAgICAgIHZhciBnZW9fanNvbl9mM2YzY2Y5OTc0Y2U0YmUyOGYxMGI3ZjFkOTRhOTc3MSA9IEwuZ2VvSnNvbihudWxsLCB7CiAgICAgICAgICAgICAgICBvbkVhY2hGZWF0dXJlOiBnZW9fanNvbl9mM2YzY2Y5OTc0Y2U0YmUyOGYxMGI3ZjFkOTRhOTc3MV9vbkVhY2hGZWF0dXJlLAogICAgICAgICAgICAKICAgICAgICB9KS5hZGRUbyhtYXBfZGQ1NWFjZGQ0MDc3NDlkNGE0ZGQ3NTBkMWY0ZTMxNTEpOwoKICAgICAgICBmdW5jdGlvbiBnZW9fanNvbl9mM2YzY2Y5OTc0Y2U0YmUyOGYxMGI3ZjFkOTRhOTc3MV9hZGQgKGRhdGEpIHsKICAgICAgICAgICAgZ2VvX2pzb25fZjNmM2NmOTk3NGNlNGJlMjhmMTBiN2YxZDk0YTk3NzEuYWRkRGF0YShkYXRhKTsKICAgICAgICB9CiAgICAgICAgICAgIGdlb19qc29uX2YzZjNjZjk5NzRjZTRiZTI4ZjEwYjdmMWQ5NGE5NzcxX2FkZCh7ImNvb3JkaW5hdGVzIjogW1tbODkuNTc5NTg2NzAyMDYyNDQsIDIzLjcyMTEzNjg3NTQwMDkzN10sIFs4OS45OTQ1MzY4NDU0MzQ2MSwgMjMuNzIxMTM2ODc1NDAwOTM3XSwgWzg5Ljk5NDUzNjg0NTQzNDYxLCAyNC42MTg0MDk0NDg5Mzc4OTNdLCBbODkuNTc5NTg2NzAyMDYyNDQsIDI0LjYxODQwOTQ0ODkzNzg5M10sIFs4OS41Nzk1ODY3MDIwNjI0NCwgMjMuNzIxMTM2ODc1NDAwOTM3XV1dLCAidHlwZSI6ICJQb2x5Z29uIn0pOwogICAgICAgIAogICAgCiAgICAgICAgZnVuY3Rpb24gZ2VvX2pzb25fOWE2ZDA0YTgzZjA0NDc0YmJjYzBiMDE2Mzg2Y2ZjMWJfb25FYWNoRmVhdHVyZShmZWF0dXJlLCBsYXllcikgewogICAgICAgICAgICBsYXllci5vbih7CiAgICAgICAgICAgICAgICBjbGljazogZnVuY3Rpb24oZSkgewogICAgICAgICAgICAgICAgICAgIG1hcF9kZDU1YWNkZDQwNzc0OWQ0YTRkZDc1MGQxZjRlMzE1MS5maXRCb3VuZHMoZS50YXJnZXQuZ2V0Qm91bmRzKCkpOwogICAgICAgICAgICAgICAgfQogICAgICAgICAgICB9KTsKICAgICAgICB9OwogICAgICAgIHZhciBnZW9fanNvbl85YTZkMDRhODNmMDQ0NzRiYmNjMGIwMTYzODZjZmMxYiA9IEwuZ2VvSnNvbihudWxsLCB7CiAgICAgICAgICAgICAgICBvbkVhY2hGZWF0dXJlOiBnZW9fanNvbl85YTZkMDRhODNmMDQ0NzRiYmNjMGIwMTYzODZjZmMxYl9vbkVhY2hGZWF0dXJlLAogICAgICAgICAgICAKICAgICAgICB9KS5hZGRUbyhtYXBfZGQ1NWFjZGQ0MDc3NDlkNGE0ZGQ3NTBkMWY0ZTMxNTEpOwoKICAgICAgICBmdW5jdGlvbiBnZW9fanNvbl85YTZkMDRhODNmMDQ0NzRiYmNjMGIwMTYzODZjZmMxYl9hZGQgKGRhdGEpIHsKICAgICAgICAgICAgZ2VvX2pzb25fOWE2ZDA0YTgzZjA0NDc0YmJjYzBiMDE2Mzg2Y2ZjMWIuYWRkRGF0YShkYXRhKTsKICAgICAgICB9CiAgICAgICAgICAgIGdlb19qc29uXzlhNmQwNGE4M2YwNDQ3NGJiY2MwYjAxNjM4NmNmYzFiX2FkZCh7ImJib3giOiBbODkuNTc5NTg2NzAyMDYyNDQsIDIzLjcyMTEzNjg3NTQwMDkzNywgODkuOTA0OTU4NTIyMTAwMTYsIDI0LjYxODQwOTQ0ODkzNzg5M10sICJmZWF0dXJlcyI6IFt7ImJib3giOiBbODkuNTc5NTg2NzAyMDYyNDQsIDIzLjcyMTEzNjg3NTQwMDkzNywgODkuNTgwNjU4NzQyNjI2NzgsIDIzLjczMTU5NzE2MTQ1NzYxNF0sICJnZW9tZXRyeSI6IHsiY29vcmRpbmF0ZXMiOiBbWzg5LjU4MDY1ODc0MjYyNjc4LCAyMy43MjExMzY4NzU0MDA5MzddLCBbODkuNTc5NTg2NzAyMDYyNDQsIDIzLjczMTU5NzE2MTQ1NzYxNF1dLCAidHlwZSI6ICJMaW5lU3RyaW5nIn0sICJpZCI6ICIxNzkiLCAicHJvcGVydGllcyI6IHsiVHJhY2tJZCI6ICIxODAifSwgInR5cGUiOiAiRmVhdHVyZSJ9LCB7ImJib3giOiBbODkuNzQ4MzE5NDg5NzM4MDUsIDIzLjcyMTEzNjg3NTQwMDkzNywgODkuODQwMjgwODU3ODE4NjgsIDI0LjYxODQwOTQ0ODkzNzg5M10sICJnZW9tZXRyeSI6IHsiY29vcmRpbmF0ZXMiOiBbWzg5Ljg0MDI4MDg1NzgxODY4LCAyMy43MjExMzY4NzU0MDA5MzddLCBbODkuNzQ4MzE5NDg5NzM4MDUsIDI0LjYxODQwOTQ0ODkzNzg5M11dLCAidHlwZSI6ICJMaW5lU3RyaW5nIn0sICJpZCI6ICI2MjEiLCAicHJvcGVydGllcyI6IHsiVHJhY2tJZCI6ICI2MjIifSwgInR5cGUiOiAiRmVhdHVyZSJ9LCB7ImJib3giOiBbODkuNTc5NTg2NzAyMDYyNDQsIDIzLjk3OTg0MzM5NTg0OTM1NCwgODkuNjQ1MDIwNDc1MzY0MiwgMjQuNjE4NDA5NDQ4OTM3ODkzXSwgImdlb21ldHJ5IjogeyJjb29yZGluYXRlcyI6IFtbODkuNjQ1MDIwNDc1MzY0MiwgMjQuNjE4NDA5NDQ4OTM3ODkzXSwgWzg5LjU3OTU4NjcwMjA2MjQ0LCAyMy45Nzk4NDMzOTU4NDkzNTRdXSwgInR5cGUiOiAiTGluZVN0cmluZyJ9LCAiaWQiOiAiNzk2IiwgInByb3BlcnRpZXMiOiB7IlRyYWNrSWQiOiAiNzk3In0sICJ0eXBlIjogIkZlYXR1cmUifSwgeyJiYm94IjogWzg5LjgxMjk5ODk5NDA0NTE3LCAyMy43MjExMzY4NzU0MDA5MzcsIDg5LjkwNDk1ODUyMjEwMDE2LCAyNC42MTg0MDk0NDg5Mzc4OTNdLCAiZ2VvbWV0cnkiOiB7ImNvb3JkaW5hdGVzIjogW1s4OS45MDQ5NTg1MjIxMDAxNiwgMjQuNjE4NDA5NDQ4OTM3ODkzXSwgWzg5LjgxMjk5ODk5NDA0NTE3LCAyMy43MjExMzY4NzU0MDA5MzddXSwgInR5cGUiOiAiTGluZVN0cmluZyJ9LCAiaWQiOiAiMTIzOCIsICJwcm9wZXJ0aWVzIjogeyJUcmFja0lkIjogIjEyMzkifSwgInR5cGUiOiAiRmVhdHVyZSJ9XSwgInR5cGUiOiAiRmVhdHVyZUNvbGxlY3Rpb24ifSk7CiAgICAgICAgCiAgICAKICAgICAgICAgICAgICAgIHZhciBsYXRfbG5nX3BvcHVwXzg5NjQyZmNjYjMzNDQwZGRhOWFkM2YxZGEyYjcyOGJiID0gTC5wb3B1cCgpOwogICAgICAgICAgICAgICAgZnVuY3Rpb24gbGF0TG5nUG9wKGUpIHsKICAgICAgICAgICAgICAgICAgICBsYXRfbG5nX3BvcHVwXzg5NjQyZmNjYjMzNDQwZGRhOWFkM2YxZGEyYjcyOGJiCiAgICAgICAgICAgICAgICAgICAgICAgIC5zZXRMYXRMbmcoZS5sYXRsbmcpCiAgICAgICAgICAgICAgICAgICAgICAgIC5zZXRDb250ZW50KCJMYXRpdHVkZTogIiArIGUubGF0bG5nLmxhdC50b0ZpeGVkKDQpICsKICAgICAgICAgICAgICAgICAgICAgICAgICAgICAgICAgICAgIjxicj5Mb25naXR1ZGU6ICIgKyBlLmxhdGxuZy5sbmcudG9GaXhlZCg0KSkKICAgICAgICAgICAgICAgICAgICAgICAgLm9wZW5PbihtYXBfZGQ1NWFjZGQ0MDc3NDlkNGE0ZGQ3NTBkMWY0ZTMxNTEpOwogICAgICAgICAgICAgICAgICAgIH0KICAgICAgICAgICAgICAgIG1hcF9kZDU1YWNkZDQwNzc0OWQ0YTRkZDc1MGQxZjRlMzE1MS5vbignY2xpY2snLCBsYXRMbmdQb3ApOwogICAgICAgICAgICAKPC9zY3JpcHQ+ onload=\"this.contentDocument.open();this.contentDocument.write(atob(this.getAttribute('data-html')));this.contentDocument.close();\" allowfullscreen webkitallowfullscreen mozallowfullscreen></iframe></div></div>"
      ],
      "text/plain": [
       "<folium.folium.Map at 0x7febc5807290>"
      ]
     },
     "execution_count": 5,
     "metadata": {},
     "output_type": "execute_result"
    }
   ],
   "source": [
    "m = folium.Map(center, zoom_start=zoom)\n",
    "folium.GeoJson(polygon_geom).add_to(m)\n",
    "folium.GeoJson(tracks_clip).add_to(m)\n",
    "folium.LatLngPopup().add_to(m)\n",
    "m\n"
   ]
  },
  {
   "cell_type": "code",
   "execution_count": 6,
   "metadata": {},
   "outputs": [
    {
     "data": {
      "text/plain": [
       "array(['180', '622', '797', '1239'], dtype=object)"
      ]
     },
     "execution_count": 6,
     "metadata": {},
     "output_type": "execute_result"
    }
   ],
   "source": [
    "track_ids"
   ]
  },
  {
   "cell_type": "code",
   "execution_count": 7,
   "metadata": {},
   "outputs": [],
   "source": [
    "# track_id, track_date\n",
    "overpasses = []\n",
    "for track_id in track_ids:\n",
    "    for track_date in dates['track_{}'.format(track_id)].split(','):\n",
    "        overpasses.append([track_id, track_date])\n",
    "\n"
   ]
  },
  {
   "cell_type": "code",
   "execution_count": 8,
   "metadata": {},
   "outputs": [],
   "source": [
    "#print(overpasses)"
   ]
  },
  {
   "cell_type": "code",
   "execution_count": null,
   "metadata": {},
   "outputs": [],
   "source": []
  },
  {
   "cell_type": "code",
   "execution_count": null,
   "metadata": {},
   "outputs": [],
   "source": []
  },
  {
   "cell_type": "code",
   "execution_count": null,
   "metadata": {},
   "outputs": [],
   "source": []
  },
  {
   "cell_type": "code",
   "execution_count": null,
   "metadata": {},
   "outputs": [],
   "source": []
  },
  {
   "cell_type": "code",
   "execution_count": 9,
   "metadata": {},
   "outputs": [
    {
     "data": {
      "application/vnd.jupyter.widget-view+json": {
       "model_id": "b3ac4d7d29a34015b837d55aeab2abd7",
       "version_major": 2,
       "version_minor": 0
      },
      "text/plain": [
       "HBox(children=(FloatProgress(value=0.0, layout=Layout(flex='2'), max=26.0), HTML(value='')), layout=Layout(dis…"
      ]
     },
     "metadata": {},
     "output_type": "display_data"
    },
    {
     "name": "stdout",
     "output_type": "stream",
     "text": [
      "\n"
     ]
    }
   ],
   "source": [
    "rows = []\n",
    "\n",
    "# download data for all track_id, track_date combinations\n",
    "with tqdm(overpasses, ncols='100%') as t:\n",
    "    log = lambda s: t.set_description(s); t.refresh()\n",
    "    \n",
    "    for track_id, track_date in t:\n",
    "        log(f'Downloading data for track: {track_id}, date: {track_date}')\n",
    "\n",
    "        # Paste the OpenAltimetry API URL for Photon here: \n",
    "        OA_API_URL = 'https://openaltimetry.org/data/api/icesat2/atl03?' \\\n",
    "            '&minx={}&miny={}&maxx={}&maxy={}&date={}&trackId={}' \\\n",
    "            '&beamName=gt3r&beamName=gt3l&beamName=gt2r&beamName=gt2l&beamName=gt1r&beamName=gt1l' \\\n",
    "            .format(extents[0], extents[1], extents[2], extents[3], track_date, track_id)\n",
    "\n",
    "        # This function will request the 6 beams data using OpenAltimetry's API\n",
    "        r = requests.get(OA_API_URL + '&client=jupyter')\n",
    "        photon_data = r.json()\n",
    "\n",
    "        # iterate over 6 beams\n",
    "        for beam in photon_data:\n",
    "            # every beam has data series with different confidences:\n",
    "            #\n",
    "            # {'beam_name': 'gt3r',\n",
    "            #  'total_photon_count': 43383,\n",
    "            #  'select_photon_count': 43383,\n",
    "            #  'percentage': 100.0,\n",
    "            #  'series': [{'name': 'Noise',\n",
    "            #    'photon_count': 580,\n",
    "            #    'data': [[55.48735236638138, 8.49802945875813, 37.546936],\n",
    "            #     [55.48734604692815, 8.498028327844818, 42.50964],            \n",
    "            beam_name = beam['beam_name']\n",
    "            for s in beam['series']:\n",
    "                # every series has name (confidence)\n",
    "                series_name = s['name']\n",
    "                \n",
    "                for o in s['data']:\n",
    "                    # add rows\n",
    "                    row = {\n",
    "                        'track_id': track_id,\n",
    "                        'date': track_date,\n",
    "                        'beam': beam_name,\n",
    "                        'series': series_name,\n",
    "                        'lon': round(o[1], 6),\n",
    "                        'lat': round(o[0], 6),\n",
    "                        'h': o[2],\n",
    "                    }\n",
    "            \n",
    "                    rows.append(row)\n",
    "\n",
    "#Save locally after downloading once"
   ]
  },
  {
   "cell_type": "code",
   "execution_count": 10,
   "metadata": {},
   "outputs": [],
   "source": [
    "#print(photon_data)"
   ]
  },
  {
   "cell_type": "code",
   "execution_count": 11,
   "metadata": {},
   "outputs": [],
   "source": [
    "#print(beam)"
   ]
  },
  {
   "cell_type": "code",
   "execution_count": 12,
   "metadata": {},
   "outputs": [
    {
     "name": "stdout",
     "output_type": "stream",
     "text": [
      "<class 'dict'>\n"
     ]
    }
   ],
   "source": [
    "print(type(beam))"
   ]
  },
  {
   "cell_type": "code",
   "execution_count": 13,
   "metadata": {},
   "outputs": [
    {
     "data": {
      "text/plain": [
       "'gt1l'"
      ]
     },
     "execution_count": 13,
     "metadata": {},
     "output_type": "execute_result"
    }
   ],
   "source": [
    "beam['beam_name']"
   ]
  },
  {
   "cell_type": "code",
   "execution_count": 14,
   "metadata": {},
   "outputs": [],
   "source": [
    "#print(photon_data)"
   ]
  },
  {
   "cell_type": "code",
   "execution_count": 15,
   "metadata": {},
   "outputs": [
    {
     "name": "stderr",
     "output_type": "stream",
     "text": [
      "IOPub data rate exceeded.\n",
      "The notebook server will temporarily stop sending output\n",
      "to the client in order to avoid crashing it.\n",
      "To change this limit, set the config variable\n",
      "`--NotebookApp.iopub_data_rate_limit`.\n",
      "\n",
      "Current values:\n",
      "NotebookApp.iopub_data_rate_limit=1000000.0 (bytes/sec)\n",
      "NotebookApp.rate_limit_window=3.0 (secs)\n",
      "\n"
     ]
    }
   ],
   "source": [
    "print(beam)"
   ]
  },
  {
   "cell_type": "code",
   "execution_count": 16,
   "metadata": {},
   "outputs": [],
   "source": [
    "df = pd.DataFrame(rows)"
   ]
  },
  {
   "cell_type": "code",
   "execution_count": 17,
   "metadata": {},
   "outputs": [
    {
     "data": {
      "text/html": [
       "<div>\n",
       "<style scoped>\n",
       "    .dataframe tbody tr th:only-of-type {\n",
       "        vertical-align: middle;\n",
       "    }\n",
       "\n",
       "    .dataframe tbody tr th {\n",
       "        vertical-align: top;\n",
       "    }\n",
       "\n",
       "    .dataframe thead th {\n",
       "        text-align: right;\n",
       "    }\n",
       "</style>\n",
       "<table border=\"1\" class=\"dataframe\">\n",
       "  <thead>\n",
       "    <tr style=\"text-align: right;\">\n",
       "      <th></th>\n",
       "      <th>track_id</th>\n",
       "      <th>date</th>\n",
       "      <th>beam</th>\n",
       "      <th>series</th>\n",
       "      <th>lon</th>\n",
       "      <th>lat</th>\n",
       "      <th>h</th>\n",
       "    </tr>\n",
       "  </thead>\n",
       "  <tbody>\n",
       "    <tr>\n",
       "      <th>0</th>\n",
       "      <td>180</td>\n",
       "      <td>2019-01-09</td>\n",
       "      <td>gt3r</td>\n",
       "      <td>Noise</td>\n",
       "      <td>89.622678</td>\n",
       "      <td>23.727912</td>\n",
       "      <td>3.698254</td>\n",
       "    </tr>\n",
       "    <tr>\n",
       "      <th>1</th>\n",
       "      <td>180</td>\n",
       "      <td>2019-01-09</td>\n",
       "      <td>gt3r</td>\n",
       "      <td>Noise</td>\n",
       "      <td>89.622680</td>\n",
       "      <td>23.727912</td>\n",
       "      <td>-30.436510</td>\n",
       "    </tr>\n",
       "    <tr>\n",
       "      <th>2</th>\n",
       "      <td>180</td>\n",
       "      <td>2019-01-09</td>\n",
       "      <td>gt3r</td>\n",
       "      <td>Noise</td>\n",
       "      <td>89.622685</td>\n",
       "      <td>23.727913</td>\n",
       "      <td>-103.526760</td>\n",
       "    </tr>\n",
       "    <tr>\n",
       "      <th>3</th>\n",
       "      <td>180</td>\n",
       "      <td>2019-01-09</td>\n",
       "      <td>gt3r</td>\n",
       "      <td>Noise</td>\n",
       "      <td>89.622679</td>\n",
       "      <td>23.727918</td>\n",
       "      <td>-19.456028</td>\n",
       "    </tr>\n",
       "    <tr>\n",
       "      <th>4</th>\n",
       "      <td>180</td>\n",
       "      <td>2019-01-09</td>\n",
       "      <td>gt3r</td>\n",
       "      <td>Noise</td>\n",
       "      <td>89.622678</td>\n",
       "      <td>23.727918</td>\n",
       "      <td>-9.291720</td>\n",
       "    </tr>\n",
       "    <tr>\n",
       "      <th>...</th>\n",
       "      <td>...</td>\n",
       "      <td>...</td>\n",
       "      <td>...</td>\n",
       "      <td>...</td>\n",
       "      <td>...</td>\n",
       "      <td>...</td>\n",
       "      <td>...</td>\n",
       "    </tr>\n",
       "    <tr>\n",
       "      <th>4150038</th>\n",
       "      <td>1239</td>\n",
       "      <td>2020-03-16</td>\n",
       "      <td>gt1l</td>\n",
       "      <td>High</td>\n",
       "      <td>89.751855</td>\n",
       "      <td>23.721827</td>\n",
       "      <td>-47.611958</td>\n",
       "    </tr>\n",
       "    <tr>\n",
       "      <th>4150039</th>\n",
       "      <td>1239</td>\n",
       "      <td>2020-03-16</td>\n",
       "      <td>gt1l</td>\n",
       "      <td>High</td>\n",
       "      <td>89.751852</td>\n",
       "      <td>23.721802</td>\n",
       "      <td>-47.792526</td>\n",
       "    </tr>\n",
       "    <tr>\n",
       "      <th>4150040</th>\n",
       "      <td>1239</td>\n",
       "      <td>2020-03-16</td>\n",
       "      <td>gt1l</td>\n",
       "      <td>High</td>\n",
       "      <td>89.751844</td>\n",
       "      <td>23.721725</td>\n",
       "      <td>-47.442990</td>\n",
       "    </tr>\n",
       "    <tr>\n",
       "      <th>4150041</th>\n",
       "      <td>1239</td>\n",
       "      <td>2020-03-16</td>\n",
       "      <td>gt1l</td>\n",
       "      <td>High</td>\n",
       "      <td>89.751837</td>\n",
       "      <td>23.721668</td>\n",
       "      <td>-47.488422</td>\n",
       "    </tr>\n",
       "    <tr>\n",
       "      <th>4150042</th>\n",
       "      <td>1239</td>\n",
       "      <td>2020-03-16</td>\n",
       "      <td>gt1l</td>\n",
       "      <td>High</td>\n",
       "      <td>89.751800</td>\n",
       "      <td>23.721323</td>\n",
       "      <td>-47.499077</td>\n",
       "    </tr>\n",
       "  </tbody>\n",
       "</table>\n",
       "<p>4150043 rows × 7 columns</p>\n",
       "</div>"
      ],
      "text/plain": [
       "        track_id        date  beam series        lon        lat           h\n",
       "0            180  2019-01-09  gt3r  Noise  89.622678  23.727912    3.698254\n",
       "1            180  2019-01-09  gt3r  Noise  89.622680  23.727912  -30.436510\n",
       "2            180  2019-01-09  gt3r  Noise  89.622685  23.727913 -103.526760\n",
       "3            180  2019-01-09  gt3r  Noise  89.622679  23.727918  -19.456028\n",
       "4            180  2019-01-09  gt3r  Noise  89.622678  23.727918   -9.291720\n",
       "...          ...         ...   ...    ...        ...        ...         ...\n",
       "4150038     1239  2020-03-16  gt1l   High  89.751855  23.721827  -47.611958\n",
       "4150039     1239  2020-03-16  gt1l   High  89.751852  23.721802  -47.792526\n",
       "4150040     1239  2020-03-16  gt1l   High  89.751844  23.721725  -47.442990\n",
       "4150041     1239  2020-03-16  gt1l   High  89.751837  23.721668  -47.488422\n",
       "4150042     1239  2020-03-16  gt1l   High  89.751800  23.721323  -47.499077\n",
       "\n",
       "[4150043 rows x 7 columns]"
      ]
     },
     "execution_count": 17,
     "metadata": {},
     "output_type": "execute_result"
    }
   ],
   "source": [
    "df"
   ]
  },
  {
   "cell_type": "code",
   "execution_count": 18,
   "metadata": {},
   "outputs": [
    {
     "data": {
      "text/plain": [
       "Index            128\n",
       "track_id    33200344\n",
       "date        33200344\n",
       "beam        33200344\n",
       "series      33200344\n",
       "lon         33200344\n",
       "lat         33200344\n",
       "h           33200344\n",
       "dtype: int64"
      ]
     },
     "execution_count": 18,
     "metadata": {},
     "output_type": "execute_result"
    }
   ],
   "source": [
    "df.memory_usage()"
   ]
  },
  {
   "cell_type": "code",
   "execution_count": 19,
   "metadata": {},
   "outputs": [
    {
     "data": {
      "text/plain": [
       "<AxesSubplot:>"
      ]
     },
     "execution_count": 19,
     "metadata": {},
     "output_type": "execute_result"
    },
    {
     "data": {
      "image/png": "[encoded data removed]",
      "text/plain": [
       "<Figure size 432x288 with 1 Axes>"
      ]
     },
     "metadata": {
      "needs_background": "light"
     },
     "output_type": "display_data"
    }
   ],
   "source": [
    "df.h.hist(bins=100)"
   ]
  },
  {
   "cell_type": "code",
   "execution_count": 20,
   "metadata": {},
   "outputs": [],
   "source": [
    "df.to_parquet('../data/out/icesat-2-BGD.parquet')"
   ]
  },
  {
   "cell_type": "code",
   "execution_count": 21,
   "metadata": {},
   "outputs": [
    {
     "data": {
      "text/plain": [
       "Index(['track_id', 'date', 'beam', 'series', 'lon', 'lat', 'h'], dtype='object')"
      ]
     },
     "execution_count": 21,
     "metadata": {},
     "output_type": "execute_result"
    }
   ],
   "source": [
    "df.columns"
   ]
  },
  {
   "cell_type": "code",
   "execution_count": 22,
   "metadata": {},
   "outputs": [
    {
     "data": {
      "text/plain": [
       "array(['Noise', 'Buffer', 'Low', 'Medium', 'High'], dtype=object)"
      ]
     },
     "execution_count": 22,
     "metadata": {},
     "output_type": "execute_result"
    }
   ],
   "source": [
    "df.series.unique()"
   ]
  },
  {
   "cell_type": "code",
   "execution_count": 23,
   "metadata": {},
   "outputs": [
    {
     "data": {
      "text/plain": [
       "array(['gt3r', 'gt3l', 'gt2r', 'gt2l', 'gt1r', 'gt1l'], dtype=object)"
      ]
     },
     "execution_count": 23,
     "metadata": {},
     "output_type": "execute_result"
    }
   ],
   "source": [
    "df.beam.unique()"
   ]
  },
  {
   "cell_type": "code",
   "execution_count": 24,
   "metadata": {},
   "outputs": [
    {
     "data": {
      "text/plain": [
       "array(['180', '622', '797', '1239'], dtype=object)"
      ]
     },
     "execution_count": 24,
     "metadata": {},
     "output_type": "execute_result"
    }
   ],
   "source": [
    "track_ids = df.track_id.unique()\n",
    "track_ids"
   ]
  },
  {
   "cell_type": "code",
   "execution_count": 25,
   "metadata": {},
   "outputs": [
    {
     "data": {
      "text/plain": [
       "[['180', array(['2019-01-09', '2019-04-10', '2020-01-07'], dtype=object)],\n",
       " ['622',\n",
       "  array(['2019-02-07', '2019-05-08', '2019-08-07', '2019-11-06',\n",
       "         '2020-02-05', '2020-05-06'], dtype=object)],\n",
       " ['797',\n",
       "  array(['2018-11-19', '2019-02-18', '2019-05-20', '2019-11-18',\n",
       "         '2020-02-16'], dtype=object)],\n",
       " ['1239',\n",
       "  array(['2018-12-18', '2019-03-19', '2019-06-18', '2019-09-17',\n",
       "         '2019-12-17', '2020-03-16'], dtype=object)]]"
      ]
     },
     "execution_count": 25,
     "metadata": {},
     "output_type": "execute_result"
    }
   ],
   "source": [
    "[ [track_id, df[df.track_id == track_id].date.unique()] for track_id in track_ids]"
   ]
  },
  {
   "cell_type": "code",
   "execution_count": 26,
   "metadata": {},
   "outputs": [
    {
     "name": "stdout",
     "output_type": "stream",
     "text": [
      "['gt3r' 'gt3l' 'gt2r' 'gt2l' 'gt1r' 'gt1l']\n"
     ]
    }
   ],
   "source": [
    "print(df.beam.unique())"
   ]
  },
  {
   "cell_type": "code",
   "execution_count": 27,
   "metadata": {},
   "outputs": [
    {
     "data": {
      "image/png": "[encoded data removed]",
      "text/plain": [
       "<Figure size 1440x360 with 2 Axes>"
      ]
     },
     "metadata": {
      "needs_background": "light"
     },
     "output_type": "display_data"
    }
   ],
   "source": [
    "fig, ax = plt.subplots(1, 2, figsize=(20, 5))\n",
    "\n",
    "# (df.series != 'Noise') & (df.series != 'Buffer') & \n",
    "data = df [(df.series != 'Noise') & (df.track_id == '180') & (df.date == '2020-01-07') & (df.beam == 'gt2r')]\n",
    "\n",
    "ax[0].plot(data.h, '.', markersize=5, alpha=0.2)\n",
    "ax[1].plot(df.lon, df.lat, 'k.', markersize=0.1, alpha=0.2)\n",
    "ax[1].plot(data.lon, data.lat, 'r.', markersize=0.1, alpha=0.2)\n",
    "plt.show()"
   ]
  },
  {
   "cell_type": "code",
   "execution_count": 28,
   "metadata": {},
   "outputs": [
    {
     "data": {
      "text/html": [
       "<div>\n",
       "<style scoped>\n",
       "    .dataframe tbody tr th:only-of-type {\n",
       "        vertical-align: middle;\n",
       "    }\n",
       "\n",
       "    .dataframe tbody tr th {\n",
       "        vertical-align: top;\n",
       "    }\n",
       "\n",
       "    .dataframe thead th {\n",
       "        text-align: right;\n",
       "    }\n",
       "</style>\n",
       "<table border=\"1\" class=\"dataframe\">\n",
       "  <thead>\n",
       "    <tr style=\"text-align: right;\">\n",
       "      <th></th>\n",
       "      <th>track_id</th>\n",
       "      <th>date</th>\n",
       "      <th>beam</th>\n",
       "      <th>series</th>\n",
       "      <th>lon</th>\n",
       "      <th>lat</th>\n",
       "      <th>h</th>\n",
       "    </tr>\n",
       "  </thead>\n",
       "  <tbody>\n",
       "    <tr>\n",
       "      <th>353288</th>\n",
       "      <td>180</td>\n",
       "      <td>2020-01-07</td>\n",
       "      <td>gt2r</td>\n",
       "      <td>Buffer</td>\n",
       "      <td>89.627257</td>\n",
       "      <td>23.988047</td>\n",
       "      <td>-33.104588</td>\n",
       "    </tr>\n",
       "    <tr>\n",
       "      <th>353289</th>\n",
       "      <td>180</td>\n",
       "      <td>2020-01-07</td>\n",
       "      <td>gt2r</td>\n",
       "      <td>Buffer</td>\n",
       "      <td>89.625405</td>\n",
       "      <td>24.005350</td>\n",
       "      <td>-31.025043</td>\n",
       "    </tr>\n",
       "    <tr>\n",
       "      <th>353290</th>\n",
       "      <td>180</td>\n",
       "      <td>2020-01-07</td>\n",
       "      <td>gt2r</td>\n",
       "      <td>Buffer</td>\n",
       "      <td>89.621725</td>\n",
       "      <td>24.039676</td>\n",
       "      <td>-23.954815</td>\n",
       "    </tr>\n",
       "    <tr>\n",
       "      <th>353291</th>\n",
       "      <td>180</td>\n",
       "      <td>2020-01-07</td>\n",
       "      <td>gt2r</td>\n",
       "      <td>Buffer</td>\n",
       "      <td>89.591295</td>\n",
       "      <td>24.322734</td>\n",
       "      <td>-30.702648</td>\n",
       "    </tr>\n",
       "    <tr>\n",
       "      <th>353292</th>\n",
       "      <td>180</td>\n",
       "      <td>2020-01-07</td>\n",
       "      <td>gt2r</td>\n",
       "      <td>Buffer</td>\n",
       "      <td>89.591287</td>\n",
       "      <td>24.322817</td>\n",
       "      <td>-32.178750</td>\n",
       "    </tr>\n",
       "    <tr>\n",
       "      <th>...</th>\n",
       "      <td>...</td>\n",
       "      <td>...</td>\n",
       "      <td>...</td>\n",
       "      <td>...</td>\n",
       "      <td>...</td>\n",
       "      <td>...</td>\n",
       "      <td>...</td>\n",
       "    </tr>\n",
       "    <tr>\n",
       "      <th>377959</th>\n",
       "      <td>180</td>\n",
       "      <td>2020-01-07</td>\n",
       "      <td>gt2r</td>\n",
       "      <td>High</td>\n",
       "      <td>89.579642</td>\n",
       "      <td>24.430963</td>\n",
       "      <td>-43.297870</td>\n",
       "    </tr>\n",
       "    <tr>\n",
       "      <th>377960</th>\n",
       "      <td>180</td>\n",
       "      <td>2020-01-07</td>\n",
       "      <td>gt2r</td>\n",
       "      <td>High</td>\n",
       "      <td>89.579639</td>\n",
       "      <td>24.430995</td>\n",
       "      <td>-43.218304</td>\n",
       "    </tr>\n",
       "    <tr>\n",
       "      <th>377961</th>\n",
       "      <td>180</td>\n",
       "      <td>2020-01-07</td>\n",
       "      <td>gt2r</td>\n",
       "      <td>High</td>\n",
       "      <td>89.579637</td>\n",
       "      <td>24.431008</td>\n",
       "      <td>-43.392710</td>\n",
       "    </tr>\n",
       "    <tr>\n",
       "      <th>377962</th>\n",
       "      <td>180</td>\n",
       "      <td>2020-01-07</td>\n",
       "      <td>gt2r</td>\n",
       "      <td>High</td>\n",
       "      <td>89.579613</td>\n",
       "      <td>24.431225</td>\n",
       "      <td>-39.005028</td>\n",
       "    </tr>\n",
       "    <tr>\n",
       "      <th>377963</th>\n",
       "      <td>180</td>\n",
       "      <td>2020-01-07</td>\n",
       "      <td>gt2r</td>\n",
       "      <td>High</td>\n",
       "      <td>89.579583</td>\n",
       "      <td>24.431500</td>\n",
       "      <td>-38.260117</td>\n",
       "    </tr>\n",
       "  </tbody>\n",
       "</table>\n",
       "<p>24676 rows × 7 columns</p>\n",
       "</div>"
      ],
      "text/plain": [
       "       track_id        date  beam  series        lon        lat          h\n",
       "353288      180  2020-01-07  gt2r  Buffer  89.627257  23.988047 -33.104588\n",
       "353289      180  2020-01-07  gt2r  Buffer  89.625405  24.005350 -31.025043\n",
       "353290      180  2020-01-07  gt2r  Buffer  89.621725  24.039676 -23.954815\n",
       "353291      180  2020-01-07  gt2r  Buffer  89.591295  24.322734 -30.702648\n",
       "353292      180  2020-01-07  gt2r  Buffer  89.591287  24.322817 -32.178750\n",
       "...         ...         ...   ...     ...        ...        ...        ...\n",
       "377959      180  2020-01-07  gt2r    High  89.579642  24.430963 -43.297870\n",
       "377960      180  2020-01-07  gt2r    High  89.579639  24.430995 -43.218304\n",
       "377961      180  2020-01-07  gt2r    High  89.579637  24.431008 -43.392710\n",
       "377962      180  2020-01-07  gt2r    High  89.579613  24.431225 -39.005028\n",
       "377963      180  2020-01-07  gt2r    High  89.579583  24.431500 -38.260117\n",
       "\n",
       "[24676 rows x 7 columns]"
      ]
     },
     "execution_count": 28,
     "metadata": {},
     "output_type": "execute_result"
    }
   ],
   "source": [
    "data"
   ]
  },
  {
   "cell_type": "code",
   "execution_count": null,
   "metadata": {},
   "outputs": [],
   "source": []
  },
  {
   "cell_type": "code",
   "execution_count": null,
   "metadata": {},
   "outputs": [],
   "source": []
  },
  {
   "cell_type": "code",
   "execution_count": null,
   "metadata": {},
   "outputs": [],
   "source": []
  }
 ],
 "metadata": {
  "kernelspec": {
   "display_name": "Python 3",
   "language": "python",
   "name": "python3"
  },
  "language_info": {
   "codemirror_mode": {
    "name": "ipython",
    "version": 3
   },
   "file_extension": ".py",
   "mimetype": "text/x-python",
   "name": "python",
   "nbconvert_exporter": "python",
   "pygments_lexer": "ipython3",
   "version": "3.7.8"
  }
 },
 "nbformat": 4,
 "nbformat_minor": 4
}
