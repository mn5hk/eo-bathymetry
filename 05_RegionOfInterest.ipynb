{
 "cells": [
  {
   "cell_type": "markdown",
   "metadata": {},
   "source": [
    "In this script, we use the geemap (https://github.com/giswqs/geemap) module. Map is plotted on notebook. A rectangle is drawn onto it, which selects and bounds the intersecting ICESAT2 track within the drawn rectangle. Water occurrence and elevation plots are drawn together for comparison of any relations. Interact is also setup to filter regressions as per the 03_SetupInteract script.\n",
    "#Plot only withing the bounds of the rectangle for the track-segments within the rectangle bounds"
   ]
  },
  {
   "cell_type": "code",
   "execution_count": 1,
   "metadata": {},
   "outputs": [],
   "source": [
    "%matplotlib widget"
   ]
  },
  {
   "cell_type": "code",
   "execution_count": 2,
   "metadata": {},
   "outputs": [],
   "source": [
    "%matplotlib widget"
   ]
  },
  {
   "cell_type": "code",
   "execution_count": 3,
   "metadata": {},
   "outputs": [],
   "source": [
    "#fork eo_bathymetry; add most necessary scripts; add to repo; push/commit to your fork; create pull request; comes to main repo once gena accepts\n",
    "#github pull request tutorial; command line or website\n",
    "#https://guides.github.com/activities/hello-world/"
   ]
  },
  {
   "cell_type": "code",
   "execution_count": 4,
   "metadata": {},
   "outputs": [],
   "source": [
    "import matplotlib.pyplot as plt\n",
    "import pandas as pd"
   ]
  },
  {
   "cell_type": "code",
   "execution_count": 5,
   "metadata": {},
   "outputs": [],
   "source": [
    "import geemap\n",
    "import ee"
   ]
  },
  {
   "cell_type": "code",
   "execution_count": 6,
   "metadata": {},
   "outputs": [],
   "source": [
    "\n",
    "from __future__ import print_function\n",
    "from ipywidgets import interact, interactive, fixed, interact_manual\n",
    "import ipywidgets as widgets\n",
    "\n"
   ]
  },
  {
   "cell_type": "code",
   "execution_count": 7,
   "metadata": {},
   "outputs": [],
   "source": [
    "import seaborn as sb\n",
    "\n",
    "import sklearn\n",
    "from sklearn.linear_model import LinearRegression\n",
    "from sklearn.preprocessing import scale\n",
    "from collections import Counter"
   ]
  },
  {
   "cell_type": "code",
   "execution_count": null,
   "metadata": {},
   "outputs": [],
   "source": []
  },
  {
   "cell_type": "code",
   "execution_count": 8,
   "metadata": {},
   "outputs": [],
   "source": [
    "df = pd.read_pickle('../data/out/df.pkl')\n",
    "df2 = pd.read_pickle('../data/out/df2.pkl')\n",
    "df3 = pd.read_pickle('../data/out/df3.pkl')"
   ]
  },
  {
   "cell_type": "code",
   "execution_count": 9,
   "metadata": {},
   "outputs": [
    {
     "data": {
      "application/vnd.jupyter.widget-view+json": {
       "model_id": "9253d4de27024526bca7e1861298dd70",
       "version_major": 2,
       "version_minor": 0
      },
      "text/plain": [
       "Map(center=[24.169773162169413, 89.78706177374852], controls=(WidgetControl(options=['position'], widget=HBox(…"
      ]
     },
     "metadata": {},
     "output_type": "display_data"
    }
   ],
   "source": [
    "Map = geemap.Map()\n",
    "\n",
    "# Bangladesh\n",
    "extents = [89.57958670206244, 23.721136875400937, 89.99453684543461, 24.618409448937893] #Extent same as users/gena/AquaMonitor2020/bathymetry-jamuna/bathymetry3-jamuna-2018-2019\n",
    "zoom = 10\n",
    "\n",
    "Map = geemap.Map(center=[((23.721136875400937 + 24.618409448937893)/2), ((89.57958670206244 + 89.99453684543461)/2)], zoom = zoom)\n",
    "\n",
    "\n",
    "#tracks_shp = gpd.read_file(r\"../data/icesat-2/icesat2_tracks.shp\")\n",
    "tracks_shp = r\"../data/icesat-2/icesat2_tracks.shp\"\n",
    "tracks = geemap.shp_to_ee(tracks_shp)\n",
    "#Map.addLayer(tracks, {}, 'Tracks')\n",
    "\n",
    "roi = ee.Geometry.Polygon([[[89.57958670206244, 23.721136875400937],[89.57958670206244, 24.618409448937893],[89.99453684543461, 24.618409448937893],[89.99453684543461, 23.721136875400937]]])\n",
    "fc = tracks.filterBounds(roi)\n",
    "clipped = fc.map(lambda f: f.intersection(roi))\n",
    "Map.addLayer(clipped, {}, 'Tracks')\n",
    "Map.addLayer(roi,{}, 'Bounding Box')\n",
    "Map"
   ]
  },
  {
   "cell_type": "markdown",
   "metadata": {},
   "source": [
    "<H1> Draw region of interest in the above map </H1>"
   ]
  },
  {
   "cell_type": "code",
   "execution_count": 10,
   "metadata": {},
   "outputs": [],
   "source": [
    "#widget or inline? Explore further"
   ]
  },
  {
   "cell_type": "markdown",
   "metadata": {},
   "source": [
    "https://github.com/matplotlib/ipympl <br>\n",
    "https://docs.bokeh.org/en/latest/docs/user_guide/plotting.html"
   ]
  },
  {
   "cell_type": "code",
   "execution_count": null,
   "metadata": {},
   "outputs": [],
   "source": []
  },
  {
   "cell_type": "code",
   "execution_count": 11,
   "metadata": {},
   "outputs": [],
   "source": [
    "rect = Map.draw_last_feature"
   ]
  },
  {
   "cell_type": "code",
   "execution_count": 71,
   "metadata": {},
   "outputs": [
    {
     "data": {
      "text/plain": [
       "<ee.feature.Feature at 0x7f95335f1bd0>"
      ]
     },
     "execution_count": 71,
     "metadata": {},
     "output_type": "execute_result"
    }
   ],
   "source": [
    "rect"
   ]
  },
  {
   "cell_type": "code",
   "execution_count": null,
   "metadata": {},
   "outputs": [],
   "source": []
  },
  {
   "cell_type": "code",
   "execution_count": 72,
   "metadata": {},
   "outputs": [],
   "source": [
    "roi2 = ee.FeatureCollection(rect)\n",
    "selected_track = clipped.filterBounds(roi2)\n",
    "#Map.addLayer(selected_track,{palette: \"red\"},'Selected Track')"
   ]
  },
  {
   "cell_type": "code",
   "execution_count": null,
   "metadata": {},
   "outputs": [],
   "source": []
  },
  {
   "cell_type": "code",
   "execution_count": null,
   "metadata": {},
   "outputs": [],
   "source": []
  },
  {
   "cell_type": "code",
   "execution_count": null,
   "metadata": {},
   "outputs": [],
   "source": []
  },
  {
   "cell_type": "code",
   "execution_count": 73,
   "metadata": {},
   "outputs": [],
   "source": [
    "image = ee.Image().paint(**{\n",
    "    'featureCollection': selected_track,\n",
    "    'color': 1,\n",
    "    'width': 3\n",
    "})"
   ]
  },
  {
   "cell_type": "code",
   "execution_count": null,
   "metadata": {},
   "outputs": [],
   "source": []
  },
  {
   "cell_type": "code",
   "execution_count": 74,
   "metadata": {},
   "outputs": [],
   "source": [
    "#clipped = fc.map(lambda f: f.intersection(rect))\n",
    "\n",
    "#Map.centerObject(ee.FeatureCollection(roi), 12)\n",
    "Map.addLayer(ee.Image().paint(roi, 0, 2), {'palette': 'yellow'}, 'Rect')\n",
    "# Map.setCenter(-73.9596, 40.7688, 12)\n",
    "\n",
    "\n",
    "#Map.addLayer(ee.Image().paint(clipped, 0, 3), {'palette': 'red'}, 'clipped')\n",
    "Map.addLayer(image, {'palette': 'FF0000'}, 'Selected Track')\n"
   ]
  },
  {
   "cell_type": "code",
   "execution_count": 75,
   "metadata": {},
   "outputs": [
    {
     "data": {
      "application/vnd.jupyter.widget-view+json": {
       "model_id": "38c6d6967da243f5a419c76bd1ecdfd0",
       "version_major": 2,
       "version_minor": 0
      },
      "text/plain": [
       "Map(bottom=113236.0, center=[24.125448627037315, 89.79743957519533], controls=(WidgetControl(options=['positio…"
      ]
     },
     "metadata": {},
     "output_type": "display_data"
    }
   ],
   "source": [
    "Map"
   ]
  },
  {
   "cell_type": "code",
   "execution_count": null,
   "metadata": {},
   "outputs": [],
   "source": []
  },
  {
   "cell_type": "code",
   "execution_count": null,
   "metadata": {},
   "outputs": [],
   "source": []
  },
  {
   "cell_type": "code",
   "execution_count": null,
   "metadata": {},
   "outputs": [],
   "source": []
  },
  {
   "cell_type": "code",
   "execution_count": null,
   "metadata": {},
   "outputs": [],
   "source": []
  },
  {
   "cell_type": "code",
   "execution_count": null,
   "metadata": {},
   "outputs": [],
   "source": []
  },
  {
   "cell_type": "code",
   "execution_count": 76,
   "metadata": {},
   "outputs": [],
   "source": [
    "#selected_track.getInfo()['features']"
   ]
  },
  {
   "cell_type": "code",
   "execution_count": 77,
   "metadata": {},
   "outputs": [],
   "source": [
    "#type(selected_track.getInfo()['features'])"
   ]
  },
  {
   "cell_type": "code",
   "execution_count": 78,
   "metadata": {},
   "outputs": [],
   "source": [
    "#selected_track.getInfo()['features']"
   ]
  },
  {
   "cell_type": "code",
   "execution_count": null,
   "metadata": {},
   "outputs": [],
   "source": []
  },
  {
   "cell_type": "code",
   "execution_count": 79,
   "metadata": {},
   "outputs": [],
   "source": [
    "#selected_track.getInfo()['features'][0]['id']"
   ]
  },
  {
   "cell_type": "code",
   "execution_count": 80,
   "metadata": {},
   "outputs": [],
   "source": [
    "id = []\n",
    "for feature in selected_track.getInfo()['features']:\n",
    "    id.append(feature['properties']['TrackId'])"
   ]
  },
  {
   "cell_type": "code",
   "execution_count": 81,
   "metadata": {},
   "outputs": [
    {
     "data": {
      "text/plain": [
       "['1239']"
      ]
     },
     "execution_count": 81,
     "metadata": {},
     "output_type": "execute_result"
    }
   ],
   "source": [
    "id"
   ]
  },
  {
   "cell_type": "code",
   "execution_count": 82,
   "metadata": {},
   "outputs": [],
   "source": [
    "#df.track_id == '180'"
   ]
  },
  {
   "cell_type": "code",
   "execution_count": 83,
   "metadata": {},
   "outputs": [
    {
     "data": {
      "application/vnd.jupyter.widget-view+json": {
       "model_id": "38c6d6967da243f5a419c76bd1ecdfd0",
       "version_major": 2,
       "version_minor": 0
      },
      "text/plain": [
       "Map(bottom=113236.0, center=[24.125448627037315, 89.79743957519533], controls=(WidgetControl(options=['positio…"
      ]
     },
     "metadata": {},
     "output_type": "display_data"
    }
   ],
   "source": [
    "Map"
   ]
  },
  {
   "cell_type": "code",
   "execution_count": 85,
   "metadata": {},
   "outputs": [
    {
     "data": {
      "application/vnd.jupyter.widget-view+json": {
       "model_id": "",
       "version_major": 2,
       "version_minor": 0
      },
      "text/plain": [
       "Canvas(toolbar=Toolbar(toolitems=[('Home', 'Reset original view', 'home', 'home'), ('Back', 'Back to previous …"
      ]
     },
     "metadata": {},
     "output_type": "display_data"
    }
   ],
   "source": [
    "fig, ax = plt.subplots(1, 2, figsize=(20, 5))\n",
    "# (df.series != 'Noise') & (df.series != 'Buffer') & \n",
    "#data = df [(df.series != 'Noise') & (df.track_id == '180') & (df.date == '2020-01-07') & (df.beam == 'gt2r')]\n",
    "data = df [(df.series != 'Noise') & (df.date == '2020-01-07') & (df.beam == 'gt2r')]\n",
    "#Get bounding coordinates for the rectangle drawn\n",
    "xlist = []\n",
    "ylist = []\n",
    "for x,y in rect.getInfo()['geometry']['coordinates'][0]:\n",
    "    xlist.append(x)\n",
    "    ylist.append(y)\n",
    "xlist.sort()\n",
    "ylist.sort()\n",
    "\n",
    "#Filter as per bound coordinates\n",
    "data = data[data.lon >= xlist[0]]\n",
    "data = data[(data.lon <= xlist[-1])]\n",
    "data = data[(data.lat >= ylist[0])]\n",
    "data = data[(data.lat <= ylist[-1])]\n",
    "\n",
    "# data = data[data.lon >= ylist[0]]\n",
    "# data = data[(data.lon <= ylist[-1])]\n",
    "# data = data[(data.lat >= xlist[0])]\n",
    "# data = data[(data.lat <= xlist[-1])]\n",
    "\n",
    "ax[0].plot(data.h, '.', markersize=5, alpha=0.2)\n",
    "ax[1].plot(data.water_occurrence, '.', markersize=5, alpha=0.2)\n",
    "plt.show()"
   ]
  },
  {
   "cell_type": "code",
   "execution_count": 47,
   "metadata": {},
   "outputs": [],
   "source": [
    "# data = df [(df.series != 'Noise') & (df.track_id == '180') & (df.date == '2020-01-07') & (df.beam == 'gt2r')]\n",
    "# data"
   ]
  },
  {
   "cell_type": "code",
   "execution_count": null,
   "metadata": {},
   "outputs": [],
   "source": [
    "#twin axis\n",
    "#check filters"
   ]
  },
  {
   "cell_type": "code",
   "execution_count": 48,
   "metadata": {},
   "outputs": [],
   "source": [
    "# data = data[data.lon >= xlist[0]]\n",
    "# data"
   ]
  },
  {
   "cell_type": "code",
   "execution_count": 49,
   "metadata": {},
   "outputs": [],
   "source": [
    "# xlist[0]"
   ]
  },
  {
   "cell_type": "code",
   "execution_count": 50,
   "metadata": {},
   "outputs": [],
   "source": [
    "#booleanseries = df.track_id.isin(id)"
   ]
  },
  {
   "cell_type": "code",
   "execution_count": 51,
   "metadata": {},
   "outputs": [],
   "source": [
    "#booleanseries"
   ]
  },
  {
   "cell_type": "code",
   "execution_count": null,
   "metadata": {},
   "outputs": [],
   "source": []
  },
  {
   "cell_type": "code",
   "execution_count": null,
   "metadata": {},
   "outputs": [],
   "source": []
  },
  {
   "cell_type": "code",
   "execution_count": null,
   "metadata": {},
   "outputs": [],
   "source": []
  },
  {
   "cell_type": "code",
   "execution_count": null,
   "metadata": {},
   "outputs": [],
   "source": []
  },
  {
   "cell_type": "code",
   "execution_count": null,
   "metadata": {},
   "outputs": [],
   "source": []
  },
  {
   "cell_type": "code",
   "execution_count": null,
   "metadata": {},
   "outputs": [],
   "source": []
  },
  {
   "cell_type": "code",
   "execution_count": 86,
   "metadata": {},
   "outputs": [],
   "source": [
    "start_date = '2018-09-01'\n",
    "end_date = '2019-09-01'\n",
    "quantile_cutoff = 0.05"
   ]
  },
  {
   "cell_type": "code",
   "execution_count": 87,
   "metadata": {},
   "outputs": [],
   "source": [
    "beam_name = df.beam.unique()\n",
    "series_name = df.series.unique()\n",
    "\n",
    "def reg(beam_name = 'gt3r', series_name = 'High', start_date = '2018-09-01', end_date = '2019-09-01', quantile_cutoff = 0.05):\n",
    "    columns = ['track_id','beam', 'series', 'm', 'c', 'R2', 'mse']\n",
    "    result_df = pd.DataFrame(columns = columns)\n",
    "    dict_df ={}\n",
    "    for b in df[df.beam == beam_name].beam.unique():\n",
    "        new_df = df[df.series != 'Noise']\n",
    "        new_df.dropna()\n",
    "        \n",
    "        #Filter as per bound coordinates\n",
    "        new_df = new_df[new_df.lon >= xlist[0]]\n",
    "        new_df = new_df[(new_df.lon <= xlist[-1])]\n",
    "        new_df = new_df[(new_df.lat >= ylist[0])]\n",
    "        new_df = new_df[(new_df.lat <= ylist[-1])]\n",
    "        \n",
    "        \n",
    "        for s in new_df[new_df.series == series_name].series.unique():\n",
    "\n",
    "            #Select only track_idd 622 (Directly passing through the Jamuna river)\n",
    "            #for track_id in df[df.track_id == '622'].track_id.unique():\n",
    "\n",
    "            #Run this for a more general analysis    \n",
    "            for track_id in df[df.track_id.isin(id)].track_id.unique():\n",
    "\n",
    "                #Select particular beam, series and track_id\n",
    "                loop_df = df[(df.beam == b) & (df.series == s) & (df.track_id == track_id)]\n",
    "                if loop_df.empty: continue\n",
    "\n",
    "                #Filter dates\n",
    "                loop_df = loop_df[(loop_df['date'] >= start_date) & (loop_df['date'] < end_date)]\n",
    "                if loop_df.empty: continue\n",
    "\n",
    "                #Remove water occurance <0\n",
    "                #loop_df = loop_df[loop_df.water_occurrence >= 0]\n",
    "                #if loop_df.empty: continue\n",
    "\n",
    "                #Filter off extreme quantile data\n",
    "                h_lowlim = loop_df.h.quantile(quantile_cutoff)\n",
    "                h_uplim = loop_df.h.quantile(1 - quantile_cutoff)\n",
    "                if(h_uplim < h_lowlim): h_lowlim, h_uplim = h_uplim, h_lowlim\n",
    "                water_lowlim = loop_df.water_occurrence.quantile(quantile_cutoff)\n",
    "                water_uplim = loop_df.water_occurrence.quantile(1 - quantile_cutoff)\n",
    "                if(water_uplim < water_lowlim): water_lowlim, water_uplim = water_uplim, water_lowlim\n",
    "\n",
    "                loop_df = loop_df[(loop_df['h'] > h_lowlim) & (loop_df['h'] < h_uplim)]\n",
    "                loop_df = loop_df[(loop_df['water_occurrence'] > water_lowlim) & (loop_df['water_occurrence'] < water_uplim)]\n",
    "                #Run linear regression model\n",
    "                linreg = LinearRegression()\n",
    "                X = loop_df[['h']]\n",
    "                y = loop_df[['water_occurrence']]\n",
    "                linreg.fit(X,y)\n",
    "                y_pred = linreg.predict(X)\n",
    "                mse = sklearn.metrics.mean_squared_error(y,y_pred)\n",
    "\n",
    "\n",
    "                dict_df = {'track_id': track_id, 'beam': b, 'series': s, 'm': linreg.coef_, 'c':linreg.intercept_ , 'R2': linreg.score(X,y), 'mse': mse}\n",
    "                print(dict_df)\n",
    "\n",
    "                print(b, s)\n",
    "                %matplotlib inline\n",
    "                plt.scatter(X,y)\n",
    "                plt.plot(X,y_pred, color='red')\n",
    "                plt.show()\n",
    "\n",
    "                print(linreg.coef_)\n",
    "                print(linreg.intercept_)\n",
    "                print(linreg.score(X,y))\n",
    "                print(mse)\n",
    "                print(\"\")\n",
    "                print(\"\")\n",
    "\n",
    "                result_df = result_df.append(dict_df, ignore_index = True)\n",
    "                \n",
    "                \n",
    "#                 fig, ax = plt.subplots(1, 2, figsize=(20, 5))\n",
    "#                 # (df.series != 'Noise') & (df.series != 'Buffer') & \n",
    "#                 data = df [(df.series != 'Noise') & (df.track_id == '180') & (df.date == '2020-01-07') & (df.beam == 'gt2r')]\n",
    "\n",
    "#                 ax[0].plot(loop_df.lon, '.', markersize=5, alpha=0.2)\n",
    "#                 ax[1].plot(X, loop_df, 'k.', markersize=0.1, alpha=0.2)\n",
    "#                 ax[1].plot(y, loop_df, 'r.', markersize=0.1, alpha=0.2)\n",
    "#                 plt.show()\n",
    "\n",
    "        \n",
    "        \n",
    "    return "
   ]
  },
  {
   "cell_type": "code",
   "execution_count": 88,
   "metadata": {},
   "outputs": [
    {
     "data": {
      "application/vnd.jupyter.widget-view+json": {
       "model_id": "38c6d6967da243f5a419c76bd1ecdfd0",
       "version_major": 2,
       "version_minor": 0
      },
      "text/plain": [
       "Map(bottom=113236.0, center=[24.125448627037315, 89.79743957519533], controls=(WidgetControl(options=['positio…"
      ]
     },
     "metadata": {},
     "output_type": "display_data"
    }
   ],
   "source": [
    "Map"
   ]
  },
  {
   "cell_type": "code",
   "execution_count": 89,
   "metadata": {},
   "outputs": [
    {
     "data": {
      "application/vnd.jupyter.widget-view+json": {
       "model_id": "2ce5a5fe20054c349d5a5657a9d682e4",
       "version_major": 2,
       "version_minor": 0
      },
      "text/plain": [
       "interactive(children=(Dropdown(description='beam_name', options=('gt3r', nan, 'gt3l', 'gt2r', 'gt2l', 'gt1r', …"
      ]
     },
     "metadata": {},
     "output_type": "display_data"
    }
   ],
   "source": [
    "interact(reg, beam_name=beam_name, series_name = series_name, start_date = '2018-09-01', end_date = '2019-09-01', quantile_cutoff = (0.05, 0.35));"
   ]
  },
  {
   "cell_type": "code",
   "execution_count": null,
   "metadata": {},
   "outputs": [],
   "source": []
  },
  {
   "cell_type": "code",
   "execution_count": null,
   "metadata": {},
   "outputs": [],
   "source": []
  },
  {
   "cell_type": "code",
   "execution_count": null,
   "metadata": {},
   "outputs": [],
   "source": []
  },
  {
   "cell_type": "code",
   "execution_count": null,
   "metadata": {},
   "outputs": [],
   "source": []
  }
 ],
 "metadata": {
  "kernelspec": {
   "display_name": "Python 3",
   "language": "python",
   "name": "python3"
  },
  "language_info": {
   "codemirror_mode": {
    "name": "ipython",
    "version": 3
   },
   "file_extension": ".py",
   "mimetype": "text/x-python",
   "name": "python",
   "nbconvert_exporter": "python",
   "pygments_lexer": "ipython3",
   "version": "3.7.8"
  }
 },
 "nbformat": 4,
 "nbformat_minor": 4
}
